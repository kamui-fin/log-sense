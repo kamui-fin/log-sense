{
 "cells": [
  {
   "cell_type": "markdown",
   "metadata": {},
   "source": [
    "\n",
    "We'd like to vectorize the following operation.\n",
    "\n",
    "$$\n",
    "\n",
    "maxSim(q,d) = \\sum_{i \\in |E_q|} \\max_{j \\in |E_d|} E_{qi} \\cdot E_{dj}\n",
    "\n",
    "$$\n",
    "\n",
    "And vectorize the $maxSim$ calculation for one $q$ and several $d$'s. "
   ]
  },
  {
   "cell_type": "code",
   "execution_count": 2,
   "metadata": {},
   "outputs": [],
   "source": [
    "import torch"
   ]
  },
  {
   "cell_type": "code",
   "execution_count": 125,
   "metadata": {},
   "outputs": [],
   "source": [
    "def similarity(E_q, E_d):\n",
    "    mat = E_q @ E_d.T\n",
    "    nq = E_q.square().sum(dim = -1).sqrt()\n",
    "    nd = E_d.square().sum(dim = -1).sqrt()\n",
    "    norm = nq.unsqueeze(0).T * nd.unsqueeze(0)\n",
    "    max_sim = (mat / norm).max(dim=-1).values.sum(dim=-1)\n",
    "    return max_sim"
   ]
  }
 ],
 "metadata": {
  "kernelspec": {
   "display_name": "base",
   "language": "python",
   "name": "python3"
  },
  "language_info": {
   "codemirror_mode": {
    "name": "ipython",
    "version": 3
   },
   "file_extension": ".py",
   "mimetype": "text/x-python",
   "name": "python",
   "nbconvert_exporter": "python",
   "pygments_lexer": "ipython3",
   "version": "3.11.7"
  }
 },
 "nbformat": 4,
 "nbformat_minor": 2
}
