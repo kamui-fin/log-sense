{
 "cells": [
  {
   "cell_type": "code",
   "execution_count": 73,
   "metadata": {},
   "outputs": [],
   "source": [
    "import pandas as pd\n",
    "import numpy as np\n",
    "from pathlib import Path\n",
    "from qdrant_client import QdrantClient\n",
    "from transformers import BertTokenizer, BertModel\n",
    "import torch \n",
    "import hashlib\n",
    "from qdrant_client.http.models import PointStruct\n",
    "from qdrant_client.http.models import Distance, VectorParams\n",
    "from tqdm.notebook import tqdm\n"
   ]
  },
  {
   "cell_type": "code",
   "execution_count": 3,
   "metadata": {},
   "outputs": [],
   "source": [
    "bgl = pd.read_csv('../data/bgl/bgl_cleaned.csv', compression='gzip')\n",
    "bgl.drop(columns=['Unnamed: 0'], inplace=True)"
   ]
  },
  {
   "cell_type": "code",
   "execution_count": 2,
   "metadata": {},
   "outputs": [],
   "source": [
    "tokenizer = BertTokenizer.from_pretrained('bert-base-uncased')\n",
    "model = BertModel.from_pretrained(\"bert-base-uncased\").to('cuda:0')\n",
    "\n",
    "def get_sentence_embedding(text):\n",
    "    encoded_input = tokenizer(text, padding='max_length', truncation=True, max_length=512, return_tensors='pt').to('cuda:0')\n",
    "    output = model(**encoded_input)\n",
    "    embeddings = output.last_hidden_state\n",
    "    # we must deallocate from gpu mem!\n",
    "    del encoded_input \n",
    "    return embeddings.detach().cpu() # use first for [CLS]"
   ]
  },
  {
   "cell_type": "code",
   "execution_count": 4,
   "metadata": {},
   "outputs": [],
   "source": [
    "def generate_64bit_hash(text):\n",
    "    sha256_hash = hashlib.sha256(text.encode()).digest()\n",
    "    hash_64bit = int.from_bytes(sha256_hash[:8], byteorder='big')\n",
    "    return hash_64bit\n"
   ]
  },
  {
   "cell_type": "code",
   "execution_count": 5,
   "metadata": {},
   "outputs": [],
   "source": [
    "client = QdrantClient(\"localhost\", port=6333)\n",
    "\n",
    "client.create_collection(collection_name=\"normal\", vectors_config=VectorParams(size=model.config.hidden_size, distance=Distance.COSINE))\n",
    "client.create_collection(collection_name=\"test\", vectors_config=VectorParams(size=model.config.hidden_size, distance=Distance.COSINE))"
   ]
  },
  {
   "cell_type": "code",
   "execution_count": 8,
   "metadata": {},
   "outputs": [
    {
     "name": "stderr",
     "output_type": "stream",
     "text": [
      "  0%|          | 0/703 [00:00<?, ?it/s]"
     ]
    },
    {
     "name": "stderr",
     "output_type": "stream",
     "text": [
      "100%|██████████| 703/703 [02:12<00:00,  5.32it/s]\n"
     ]
    }
   ],
   "source": [
    "unique_normal_logs = bgl[bgl['is_anomaly'] == False]['line'].unique()\n",
    "for text in tqdm(unique_normal_logs):\n",
    "    hash = generate_64bit_hash(text)\n",
    "    embedding = get_sentence_embedding(text)\n",
    "    cls_embedding = embedding[0, 0].numpy()\n",
    "    token_embeddings = embedding[0, 1:].numpy()\n",
    "    point = PointStruct(id=hash, vector=cls_embedding, payload={\"text\": text, \"tokens\": token_embeddings.tolist()})\n",
    "    client.upsert(collection_name=\"normal\", points=[point])"
   ]
  },
  {
   "cell_type": "code",
   "execution_count": 9,
   "metadata": {},
   "outputs": [],
   "source": [
    "normal_log = bgl[bgl['is_anomaly'] == False].iloc[0]['line']\n",
    "abnormal_log = bgl[bgl['is_anomaly'] == True].iloc[0]['line']\n",
    "normal_log, abnormal_log"
   ]
  },
  {
   "cell_type": "code",
   "execution_count": 56,
   "metadata": {},
   "outputs": [
    {
     "data": {
      "text/plain": [
       "tensor(-473.2968)"
      ]
     },
     "execution_count": 56,
     "metadata": {},
     "output_type": "execute_result"
    }
   ],
   "source": [
    "\n",
    "def distance(query_emb, train_embedding):\n",
    "    dot_products = query_emb @ train_embedding.T\n",
    "    query_normalized = query_emb.square().sum(dim = -1).sqrt()\n",
    "    train_normalized = train_embedding.square().sum(dim = -1).sqrt()\n",
    "    normalized_pairs = query_normalized.unsqueeze(0).T * train_normalized.unsqueeze(0)\n",
    "    max_similarity = (dot_products / normalized_pairs).max(dim=-1).values.sum(dim=-1)\n",
    "    return 1 - max_similarity\n",
    "\n",
    "def get_score(log: str):\n",
    "    num_neighbors = max(2, round(0.01 * len(unique_normal_logs)))\n",
    "    embedding = get_sentence_embedding(log)[0]\n",
    "    core_set = client.search(\n",
    "        collection_name=\"normal\", query_vector=embedding[0].numpy(), \n",
    "        limit=num_neighbors, \n",
    "        with_payload=['text', 'tokens'], \n",
    "        with_vectors=False\n",
    "    )[1:] # ignore self\n",
    "    anomaly_score = min(distance(embedding[1:], torch.tensor(c.payload['tokens'])) for c in core_set)\n",
    "    return anomaly_score\n",
    "\n",
    "get_score(normal_log)"
   ]
  },
  {
   "cell_type": "code",
   "execution_count": 58,
   "metadata": {},
   "outputs": [],
   "source": [
    "from sklearn.metrics import classification_report\n",
    "from sklearn.metrics import precision_recall_curve, f1_score, roc_auc_score\n",
    "def evaluate(test_y, final_pred):\n",
    "    print('Done!')\n",
    "    precision, recall, thresholds = precision_recall_curve(test_y, final_pred)\n",
    "    f_score = (2 * precision * recall) / (precision + recall)\n",
    "    ix = np.argmax(f_score)\n",
    "\n",
    "    print(f'Best Threshold = {thresholds[ix]}')\n",
    "    print(classification_report(test_y, final_pred > thresholds[ix], target_names=['Normal', 'Anomaly']))\n",
    "\n",
    "    f1 = f1_score(test_y, final_pred > thresholds[ix])\n",
    "    print(f'F1 = {f1}')\n",
    "\n",
    "    auc = roc_auc_score(test_y, final_pred)\n",
    "    print(f'AUC = {auc}')"
   ]
  },
  {
   "cell_type": "code",
   "execution_count": 76,
   "metadata": {},
   "outputs": [],
   "source": [
    "test_data = pd.concat([bgl[bgl['is_anomaly'] == False].sample(879_910), bgl[bgl['is_anomaly'] == True].sample(348_460)])\n",
    "unique_test_logs = test_data['line'].unique()"
   ]
  },
  {
   "cell_type": "code",
   "execution_count": 77,
   "metadata": {},
   "outputs": [
    {
     "data": {
      "application/vnd.jupyter.widget-view+json": {
       "model_id": "c692de4929ed4925b32fc366c86f8f64",
       "version_major": 2,
       "version_minor": 0
      },
      "text/plain": [
       "  0%|          | 0/661 [00:00<?, ?it/s]"
      ]
     },
     "metadata": {},
     "output_type": "display_data"
    },
    {
     "name": "stderr",
     "output_type": "stream",
     "text": [
      "  5%|▍         | 30/662 [13:35<4:46:23, 27.19s/it]\n",
      "  3%|▎         | 17/662 [14:36<9:14:10, 51.55s/it]\n",
      "  0%|          | 2/662 [11:54<65:30:52, 357.35s/it]\n"
     ]
    }
   ],
   "source": [
    "scores = [get_score(log).item() for log in tqdm(unique_test_logs)]\n",
    "unique_scores = pd.DataFrame({'line': unique_test_logs, 'score': scores})\n",
    "test_data = test_data.merge(unique_scores, on='line', how='left')\n",
    "evaluate(test_data['is_anomaly'], test_data['score'].values)"
   ]
  },
  {
   "cell_type": "code",
   "execution_count": 46,
   "metadata": {},
   "outputs": [],
   "source": [
    "def log_exists_in_normaldb(log: str):\n",
    "    hash = generate_64bit_hash(log)\n",
    "    return client.retrieve(collection_name=\"normal\", ids=[hash], with_payload=False, with_vectors=False) != []\n",
    "\n",
    "def get_point_from_log(log: str):\n",
    "    hash = generate_64bit_hash(log)\n",
    "    return client.retrieve(collection_name=\"test\", ids=[hash], with_payload=True, with_vectors=True)"
   ]
  },
  {
   "cell_type": "code",
   "execution_count": 54,
   "metadata": {},
   "outputs": [],
   "source": [
    "def get_embedding(log: str):\n",
    "    hash = generate_64bit_hash(log)\n",
    "    point = get_point_from_log(log)\n",
    "    if not point:\n",
    "        print(f'Generating embedding for {log}')\n",
    "        embedding = get_sentence_embedding(log)\n",
    "        cls_embedding = embedding[0, 0].numpy()\n",
    "        token_embeddings = embedding[0, 1:].numpy()\n",
    "        point = PointStruct(id=hash, vector=cls_embedding, payload={\"text\": log, \"tokens\": token_embeddings.tolist()})\n",
    "        client.upsert(collection_name=\"test\", points=[point])\n",
    "    else:\n",
    "        print('Fetching embedding from cache!')\n",
    "        point = point[0]\n",
    "    return point"
   ]
  },
  {
   "cell_type": "code",
   "execution_count": null,
   "metadata": {},
   "outputs": [],
   "source": [
    "from kafka import KafkaProducer\n",
    "\n",
    "\n",
    "producer = KafkaProducer(bootstrap_servers='localhost:9092')"
   ]
  },
  {
   "cell_type": "code",
   "execution_count": 57,
   "metadata": {},
   "outputs": [
    {
     "name": "stdout",
     "output_type": "stream",
     "text": [
      "Log does not exist in normal db!\n",
      "Fetching embedding from cache!\n",
      "Score: -449.79229736328125\n"
     ]
    }
   ],
   "source": [
    "test_log = abnormal_log\n",
    "if log_exists_in_normaldb(test_log):\n",
    "    print('Log exists in normal db!')\n",
    "else:\n",
    "    print('Log does not exist in normal db!')\n",
    "    point = get_embedding(test_log)\n",
    "    score = get_score(test_log)\n",
    "    print(f'Score: {score}')\n",
    "    threshold = -440 # hard coded for now\n",
    "    is_anomaly = score < threshold\n",
    "    print(f'Is anomaly: {is_anomaly}')\n",
    "\n",
    "    if not is_anomaly:\n",
    "        print('Normal log, adding to normal db')\n",
    "        client.upsert(collection_name=\"normal\", points=[point]) # NOTE: will exist in both test and normal collection\n",
    "\n",
    "    # Send out result to kafka topic\n",
    "    # Create a kafka producer for topic \"predictions\" and send out the result\n",
    "    producer.send('predictions', value={'log': test_log, 'score': score, 'is_anomaly': is_anomaly})"
   ]
  }
 ],
 "metadata": {
  "kernelspec": {
   "display_name": "base",
   "language": "python",
   "name": "python3"
  },
  "language_info": {
   "codemirror_mode": {
    "name": "ipython",
    "version": 3
   },
   "file_extension": ".py",
   "mimetype": "text/x-python",
   "name": "python",
   "nbconvert_exporter": "python",
   "pygments_lexer": "ipython3",
   "version": "3.11.7"
  },
  "orig_nbformat": 4
 },
 "nbformat": 4,
 "nbformat_minor": 2
}
